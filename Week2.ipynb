{
 "cells": [
  {
   "cell_type": "markdown",
   "id": "19ae4181-0efb-4dcc-bd4a-90afd93828f4",
   "metadata": {},
   "source": [
    "# Week 2: Simple Introductory Python Program in JupyterLab"
   ]
  },
  {
   "cell_type": "markdown",
   "id": "cce6e877-923d-48e9-8e2d-a5cb0a5a9c93",
   "metadata": {},
   "source": [
    "Let's start with some simple markdown text:\n",
    "* A bullet\n",
    "* Another bullet\n",
    "* A third bullet"
   ]
  },
  {
   "cell_type": "markdown",
   "id": "00f8b992-d801-4586-9e8c-3dae6fb21f2a",
   "metadata": {},
   "source": [
    "## A numbered list of things to do:\n",
    "1. Write a print statement to display a title.\n",
    "2. Write an input statement to request data.\n",
    "3. Write a print statement which uses the data"
   ]
  },
  {
   "cell_type": "code",
   "execution_count": 1,
   "id": "70c6b325-7d73-4095-ba0f-04c9c2ae823a",
   "metadata": {},
   "outputs": [
    {
     "name": "stdout",
     "output_type": "stream",
     "text": [
      "My First program\n"
     ]
    },
    {
     "name": "stdin",
     "output_type": "stream",
     "text": [
      "What is your name? Trevor\n"
     ]
    },
    {
     "name": "stdout",
     "output_type": "stream",
     "text": [
      "Hi Trevor, it is so nice to meet you!\n"
     ]
    }
   ],
   "source": [
    "print(\"My First program\")\n",
    "name = input(\"What is your name?\")\n",
    "print(f\"Hi {name}, it is so nice to meet you!\")"
   ]
  },
  {
   "cell_type": "markdown",
   "id": "27d2bb03-91f4-42f7-a8c8-80dd86d2bc2a",
   "metadata": {},
   "source": [
    "## Using f-strings in Python\n",
    "Recently (Python 3.6), Python introduced a concept called f-strings, to simplify formatted printing. As you can see from the example above, an f-string begins with an f, followed by a string, hence the name. Variables are contained in \"{}\", in the string itself. And you don't have to use the word, \"print\", you may just use f\"\" as in:"
   ]
  },
  {
   "cell_type": "code",
   "execution_count": 2,
   "id": "51c5c1e1-1a3a-49ba-b407-7673da6df04d",
   "metadata": {
    "scrolled": true
   },
   "outputs": [
    {
     "data": {
      "text/plain": [
       "'This is an f-string, Trevor'"
      ]
     },
     "execution_count": 2,
     "metadata": {},
     "output_type": "execute_result"
    }
   ],
   "source": [
    "f\"This is an f-string, {name}\""
   ]
  },
  {
   "cell_type": "markdown",
   "id": "ec0058b5-abbb-4897-ab29-340f5d262249",
   "metadata": {},
   "source": [
    "### Formatting using f-strings\n",
    "Formatting may also be performed Python's formatting specification found [here](https://docs.python.org/3/library/string.html#format-specification-mini-language). It can be a bit complicated, so I encourage you to review the examples."
   ]
  },
  {
   "cell_type": "markdown",
   "id": "f0b4d1f9-f026-4933-8861-03db02d9debc",
   "metadata": {},
   "source": [
    "## Assignment\n",
    "Using the information above, along with what you have learned from Part 1 of \"*Learn Python...*\", write some addition cells which use both *Markdown* text for formatting and *Python* for programming.\n",
    "\n",
    "### Examples:\n",
    "* A program which asks what the weather is like, and do you like it?\n",
    "* A program which asks for the major ingredients of a receipe you like.\n",
    "* Examples from page 22 of the book \"*Learn Python...*\""
   ]
  },
  {
   "cell_type": "code",
   "execution_count": 6,
   "id": "a668fa0d-84db-4dff-9bff-1b21ca806d2d",
   "metadata": {},
   "outputs": [
    {
     "name": "stdout",
     "output_type": "stream",
     "text": [
      "Our Very First Program!\n"
     ]
    },
    {
     "name": "stdin",
     "output_type": "stream",
     "text": [
      "What is the weather like today? cloudy and very australian\n"
     ]
    },
    {
     "name": "stdout",
     "output_type": "stream",
     "text": [
      "The weather today is cloudy and very australian, back to you!\n"
     ]
    }
   ],
   "source": [
    "#Part 1 \"Learn Python...\"\n",
    "print(\"Our Very First Program!\")\n",
    "weather = input(\"What is the weather like today?\")\n",
    "print(f\"The weather today is {weather}, back to you!\")"
   ]
  },
  {
   "cell_type": "code",
   "execution_count": 8,
   "id": "a6943767-0d0d-48ab-aa1f-557820f6557e",
   "metadata": {},
   "outputs": [
    {
     "name": "stdout",
     "output_type": "stream",
     "text": [
      "The European Model\n"
     ]
    },
    {
     "name": "stdin",
     "output_type": "stream",
     "text": [
      "What is today's date? 13 of June 2023\n"
     ]
    },
    {
     "name": "stdout",
     "output_type": "stream",
     "text": [
      "Today's date is 13 of June 2023 of the new world!\n"
     ]
    }
   ],
   "source": [
    "print(\"The European Model\")\n",
    "date = input(\"What is today's date?\")\n",
    "print(f\"Today's date is {date} of the new world!\")"
   ]
  },
  {
   "cell_type": "code",
   "execution_count": 11,
   "id": "e59f25f2-2cea-4229-8cdc-5752685fad8f",
   "metadata": {},
   "outputs": [
    {
     "name": "stdout",
     "output_type": "stream",
     "text": [
      "A Pepperoni Pizza\n"
     ]
    },
    {
     "name": "stdin",
     "output_type": "stream",
     "text": [
      "What are the ingredients for a Pizza? bread, pepperoni, cheese, tomato sauce, and smiley faces\n"
     ]
    },
    {
     "name": "stdout",
     "output_type": "stream",
     "text": [
      "The ingredients for a pizza are bread, pepperoni, cheese, tomato sauce, and smiley faces, enjoy!\n"
     ]
    }
   ],
   "source": [
    "print(\"A Pepperoni Pizza\")\n",
    "ingredients = input(\"What are the ingredients for a Pizza?\")\n",
    "print(f\"The ingredients for a pizza are {ingredients}, enjoy!\")"
   ]
  },
  {
   "cell_type": "markdown",
   "id": "b19f39dd-586b-4d46-acd5-fb75a387e875",
   "metadata": {},
   "source": [
    "**These are places in the World!**\n",
    "-Tokyo\n",
    "-Singapore\n",
    "-Disneyland"
   ]
  },
  {
   "cell_type": "markdown",
   "id": "06f39c63-b907-4831-b5f7-d847423d2619",
   "metadata": {},
   "source": [
    "*This is a Pizza that requires three ingredients* \n",
    "1. Bread\n",
    "2. Cheese\n",
    "3. Sause"
   ]
  },
  {
   "cell_type": "markdown",
   "id": "f9d4d1d2-ae42-4cdc-a733-387a55add367",
   "metadata": {},
   "source": [
    "**How can I help you today?**\n",
    "1. *You can give me a meatloaf for Christmas*\n",
    "1. *Give me 10,000 tons of Ice Cream*\n",
    "1. *Give me a party*\n",
    "1. *Take me to a Candy Shop*\n",
    "1. *Send me to Llamaland*"
   ]
  },
  {
   "cell_type": "markdown",
   "id": "86d3b467-9875-4dc0-aea0-54ba3d33e4a3",
   "metadata": {},
   "source": [
    "*Where the heck to get the link to get the Markdown?*\n",
    "[Link](https://commonmark.org/help/)"
   ]
  },
  {
   "cell_type": "markdown",
   "id": "f24011af-7438-444a-9a2f-116c8219ecbf",
   "metadata": {},
   "source": [
    "***\n",
    "Why is the world so big?\n",
    "** I DON\"T KNOW!!! **"
   ]
  },
  {
   "cell_type": "markdown",
   "id": "6ca0c043-965d-400e-b182-252ceacbc42e",
   "metadata": {},
   "source": [
    "# Movies #\n",
    "## Movies of the 20th Century ##\n",
    "1. Monty Python and The Holy Grail\n",
    "1. A Knight in Sir Camelot\n",
    "1. Bill and Ted's Excellent Adventure\n",
    "1. Of Mice and Men\n",
    "1. Old Yeller\n",
    "1. Brave Little Toaster\n",
    "1. Land Before Time"
   ]
  },
  {
   "cell_type": "markdown",
   "id": "aa44679e-f376-4233-8fee-2bb0a23f421b",
   "metadata": {},
   "source": []
  }
 ],
 "metadata": {
  "kernelspec": {
   "display_name": "Python 3 (ipykernel)",
   "language": "python",
   "name": "python3"
  },
  "language_info": {
   "codemirror_mode": {
    "name": "ipython",
    "version": 3
   },
   "file_extension": ".py",
   "mimetype": "text/x-python",
   "name": "python",
   "nbconvert_exporter": "python",
   "pygments_lexer": "ipython3",
   "version": "3.8.16"
  }
 },
 "nbformat": 4,
 "nbformat_minor": 5
}
